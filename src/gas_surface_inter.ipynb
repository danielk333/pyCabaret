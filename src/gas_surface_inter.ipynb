{
 "cells": [
  {
   "cell_type": "markdown",
   "metadata": {},
   "source": [
    "## IMPORT"
   ]
  },
  {
   "cell_type": "code",
   "execution_count": 5,
   "metadata": {},
   "outputs": [],
   "source": [
    "import sys\n",
    "import os\n",
    "from pathlib import Path\n",
    "import numpy as np\n",
    "from shock import shock\n",
    "import _mutationpp as mpp\n",
    "import rebuilding_setup as setup\n",
    "import reading_input as input_data\n",
    "input_dict = input_data.reading_input()\n",
    "from forward import forward\n",
    "\n",
    "#To run locally and find the modules in /src\n",
    "cabaret_src_folder = '/Users/jeannelonglune/Desktop/memoire/Mutationpp-master/src'\n",
    "sys.path.insert(0, cabaret_src_folder)\n",
    "\n",
    "mutation_folder = \"/Users/jeannelonglune/Desktop/memoire/Mutationpp-master/\" \n",
    "my_distribution = \"macosx-13.0-arm64-3.11\" \n",
    "sys.path.append(mutation_folder + \"_skbuild/\" + my_distribution +\"/cmake-install/interface/python/mutationpp\")\n",
    "\n",
    "## Importing local mutationpp python module ##\n",
    "mppPyDir=os.environ.get('MPP_LOCALPY')\n",
    "sys.path.append(mppPyDir)"
   ]
  },
  {
   "cell_type": "markdown",
   "metadata": {},
   "source": [
    "## Set up"
   ]
  },
  {
   "cell_type": "code",
   "execution_count": 9,
   "metadata": {},
   "outputs": [],
   "source": [
    "opts = mpp.MixtureOptions(\"N\")\n",
    "mix = mpp.Mixture(opts)\n",
    "set_state_with_rhoi_T = 1\n",
    "pos_T_trans = 0\n",
    "ns = mix.nSpecies()\n",
    "nT = mix.nEnergyEqns()\n",
    "\n",
    "# Define gas conditions (T = 6000 K and p = 1000 Pa)\n",
    "Teq = np.ones(nT) * 6000 #K\n",
    "Peq = 1000.  # Pa"
   ]
  },
  {
   "cell_type": "markdown",
   "metadata": {},
   "source": [
    "## Equilibrium conditions"
   ]
  },
  {
   "cell_type": "code",
   "execution_count": 10,
   "metadata": {},
   "outputs": [],
   "source": [
    "mix.equilibrate(Teq[pos_T_trans], Peq)"
   ]
  },
  {
   "cell_type": "code",
   "execution_count": 6,
   "metadata": {},
   "outputs": [
    {
     "name": "stdout",
     "output_type": "stream",
     "text": [
      "[243.0, 18.53, 26.3]\n",
      "-----OUTPUT------ {'Reservoir_temperature': 17233.04789796878, 'Reservoir_pressure': 35122393270.80414, 'Mass_flow': 29870.938317124146, 'Total_enthalpy': 33845535.57175973, 'Heat_flux': 2619194.674302837, 'Stagnation_density': 0.004776289245203909, 'Stagnation_pressure': 17455.59192367097, 'Free_stream_density': 0.00026459726067635674, 'Free_stream_velocity': 8234.224505024145, 'Free_stream_pressure': 18.53}\n"
     ]
    }
   ],
   "source": [
    "preshock_state = [input_dict[\"freestream\"][\"Temperature\"],input_dict[\"freestream\"][\"Pressure\"],input_dict[\"freestream\"][\"Mach\"]]\n",
    "output = forward(preshock_state,input_dict[\"residual\"],input_dict[\"throat_area\"],input_dict[\"effective_radius\"],input_dict[\"surface_temperature\"],input_dict[\"Prandtl\"],input_dict[\"Lewis\"],mix,input_dict[\"print_info\"],input_dict[\"options\"])\n",
    "\n",
    "print('-----OUTPUT------', output)\n",
    "\"\"\"preshock_state : 1D array of size 2\n",
    "        Temperature and pressure of the pre shock state.\"\"\"\n",
    "setup.mixture_states(mix)[\"free_stream\"].equilibrate(preshock_state[0],preshock_state[1])\n",
    "rhoi = setup.mixture_states(mix)[\"free_stream\"].density()"
   ]
  },
  {
   "cell_type": "code",
   "execution_count": 11,
   "metadata": {},
   "outputs": [
    {
     "name": "stdout",
     "output_type": "stream",
     "text": [
      "[7.45432334e-009 9.99999993e-001 0.00000000e+000 1.46443034e-318]\n",
      "<class 'numpy.ndarray'>\n",
      "<class 'float'>\n",
      "[1.2, 3.2, 3.1]\n",
      "1\n"
     ]
    }
   ],
   "source": [
    "Tg = output[\"Reservoir_temperature\"]  #check what is Tg \n",
    "#print(type(Tg))\n",
    "#print(type(rhoi))\n",
    "#print(type(set_state_with_rhoi_T))\n",
    "mix.setState(rhoi, Tg, set_state_with_rhoi_T)\n",
    "\n",
    "T_s = np.ones(nT) * 6000\n",
    "#T_s = VectorXd.Constant(nT, 6000.)  # change 6000 to the right value (surface temperature)\n",
    "\n",
    "# Mass gradient\n",
    "xi_e = np.array(mix.X())\n",
    "dx = 1e-2  # to be changed to the right value\n",
    "\n",
    "# see Newton method, tentative value\n",
    "rhoi_s = xi_e.copy()  # equal to gas value\n",
    "\n",
    "#classe de mix est une classe fille et la fonciton ici est def de la classe mère et non de la classe fille. \n",
    "# Solving mass balance\n",
    "\n",
    "#import cwrapper\n",
    "print(rhoi_s)\n",
    "print(type(rhoi_s))\n",
    "rhoi_s = [1.0, 3.0, 3.0]\n",
    "#rhoi_s = np.array(rhoi_s, dtype=float)\n",
    "print(type(rhoi_s[0]))\n",
    "T_s = [1.2, 3.2, 3.1]\n",
    "print(T_s)\n",
    "set_state_with_rhoi_T = 1\n",
    "print(set_state_with_rhoi_T)"
   ]
  }
 ],
 "metadata": {
  "kernelspec": {
   "display_name": "Python 3",
   "language": "python",
   "name": "python3"
  },
  "language_info": {
   "codemirror_mode": {
    "name": "ipython",
    "version": 3
   },
   "file_extension": ".py",
   "mimetype": "text/x-python",
   "name": "python",
   "nbconvert_exporter": "python",
   "pygments_lexer": "ipython3",
   "version": "3.11.6"
  }
 },
 "nbformat": 4,
 "nbformat_minor": 2
}
