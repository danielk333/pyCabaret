{
 "cells": [
  {
   "cell_type": "markdown",
   "metadata": {},
   "source": [
    "Description of CABARET "
   ]
  },
  {
   "cell_type": "markdown",
   "metadata": {},
   "source": [
    "## Importation"
   ]
  },
  {
   "cell_type": "code",
   "execution_count": 1,
   "metadata": {},
   "outputs": [
    {
     "name": "stdout",
     "output_type": "stream",
     "text": [
      "atmosphere(0.00046370449579550513, 42.52011324335111, 266.9675706383899)\n"
     ]
    }
   ],
   "source": [
    "import numpy as np\n",
    "import sys\n",
    "import time\n",
    "import os\n",
    "import config.muttconfig\n",
    "import config.input\n",
    "\n",
    "\n",
    "from shock import shock\n",
    "from total import total\n",
    "from heatflux import heatflux\n",
    "import rebuilding_setup as setup\n",
    "from atmUS76 import Atmosphere\n",
    "from config.input import pr, L, T_w"
   ]
  },
  {
   "cell_type": "markdown",
   "metadata": {},
   "source": [
    "## Free stream condition"
   ]
  },
  {
   "cell_type": "code",
   "execution_count": 2,
   "metadata": {},
   "outputs": [
    {
     "name": "stdout",
     "output_type": "stream",
     "text": [
      "5.219719752495632 224.80071443976283 28.56\n"
     ]
    }
   ],
   "source": [
    "#Free stream conditions\n",
    "M_1 = 28.56\n",
    "reff = 0.48\n",
    "alt = 70 \n",
    "\n",
    "p_1 = Atmosphere(alt)[0]\n",
    "T_1 = Atmosphere(alt)[1]\n",
    "\n",
    "print(p_1, T_1, M_1)"
   ]
  },
  {
   "cell_type": "markdown",
   "metadata": {},
   "source": [
    "mutation++ mixture setup "
   ]
  },
  {
   "cell_type": "code",
   "execution_count": 3,
   "metadata": {},
   "outputs": [],
   "source": [
    "mix = setup.setup_mpp('/Users/jeannelonglune/Desktop/memoire/pyCabaret/input.in')\n"
   ]
  },
  {
   "cell_type": "code",
   "execution_count": 4,
   "metadata": {},
   "outputs": [],
   "source": [
    "# Specify module options TO DO : develop on modul options\n",
    "options1 = {\"ratio\": 0.2,  #limit bf infinite loop is 0.33 #initial guess rho1/rho2\n",
    "        \"robust\": \"Yes\"}\n",
    "\n",
    "    #results for 0.33, 0.3, 0.2, 0.1 & Yes and No : Qw = -32753.33 W/m2 for any size\n",
    "    #not the same as in cabaret initial\n",
    "    #=> feel like I've an heaviside function... "
   ]
  },
  {
   "cell_type": "markdown",
   "metadata": {},
   "source": [
    "## Shock : Rankine-Hugoniot\n",
    "\n",
    "We solve the following system of equations known as the Rankine-Hugoniot relations\n",
    "\n",
    "$\\rho_{1}v_{1} = \\rho_{2}v_{2}$,\n",
    "\n",
    "$P_{1} + \\rho_{1}v_{1}^{2} = P_{2} + \\rho_{2}v_{2}^{2}$,\n",
    "\n",
    "$(\\rho_{1}E_{1} + P_{1})v_{1} = (\\rho_{2}E_{2} + P_{2})v_{2}$.\n",
    "\n",
    "The variable names are quite self-explanatory.\n",
    "\n",
    "In practice, we solve for the density ratio $\\rho_{1}/\\rho_{2}$, while updating the temperature to match the total energy and the corresponding pressure."
   ]
  },
  {
   "cell_type": "code",
   "execution_count": 5,
   "metadata": {},
   "outputs": [
    {
     "name": "stdout",
     "output_type": "stream",
     "text": [
      "T2 = 6859.21 K; p2 = 5642.32 Pa; v2 = 465.98 m/s\n",
      "Execution time = 0.0545  seconds = 0.0009  minutes\n"
     ]
    }
   ],
   "source": [
    "preshock_state = [T_1,p_1,M_1]\n",
    "\n",
    "start_time = time.time()\n",
    "T2,p2,v2 = shock(preshock_state,mix,options1)\n",
    "end_time = time.time()\n",
    "exec_time = end_time - start_time\n",
    "\n",
    "print('T2 = '+ \"{:.2f}\".format(T2)+' K;', 'p2 = '+ \"{:.2f}\".format(p2)+' Pa;', 'v2 = '+ \"{:.2f}\".format(v2)+' m/s')\n",
    "print('Execution time = '+\"{:.4f}\".format(exec_time), ' seconds = '+\"{:.4f}\".format(exec_time/60), ' minutes')"
   ]
  },
  {
   "cell_type": "markdown",
   "metadata": {},
   "source": [
    "## Total quantities ##\n",
    "Computing the total or stagnation quantities of a given state (temperature, pressure and velocity) is equivalent to doing a reservoir computation. Isentropic relations to deccelerate the flow to stagnant conditions. We solve the same equations.\n",
    "\n",
    "Now, the variables we solve for are proportional to the state from which we want to compute the total quantities, in this case $T_{2}, P_{2}, v_{2}$. This is why we choose to initialize these variables with 1.0."
   ]
  },
  {
   "cell_type": "code",
   "execution_count": 6,
   "metadata": {},
   "outputs": [],
   "source": [
    "options2 = {\"pressure\": 1.0, \n",
    "           \"temperature\": 1.0,\n",
    "           \"robust\": \"No\"}"
   ]
  },
  {
   "cell_type": "code",
   "execution_count": 9,
   "metadata": {},
   "outputs": [
    {
     "name": "stdout",
     "output_type": "stream",
     "text": [
      "36804532.37466799\n"
     ]
    }
   ],
   "source": [
    "mix.equilibrate(T2, p2)\n",
    "ht2 = mix.mixtureHMass()\n",
    "print(ht2)"
   ]
  },
  {
   "cell_type": "markdown",
   "metadata": {},
   "source": [
    "## Heatflux computation : Fay and Riddel "
   ]
  },
  {
   "cell_type": "code",
   "execution_count": 11,
   "metadata": {},
   "outputs": [
    {
     "name": "stdout",
     "output_type": "stream",
     "text": [
      "Qw = 1597900.16 W/m2\n",
      "Execution time = 0.0023  seconds = 0.0000  minutes\n"
     ]
    }
   ],
   "source": [
    "start_time = time.time()\n",
    "qw = heatflux(mix, pr, L, p_1, p2, T2, ht2, reff, T_w)\n",
    "end_time = time.time()\n",
    "\n",
    "exec_time = end_time - start_time\n",
    "\n",
    "print('Qw = '+ \"{:.2f}\".format(qw)+' W/m2')\n",
    "print('Execution time = '+\"{:.4f}\".format(exec_time), ' seconds = '+\"{:.4f}\".format(exec_time/60), ' minutes')"
   ]
  }
 ],
 "metadata": {
  "kernelspec": {
   "display_name": "Python 3",
   "language": "python",
   "name": "python3"
  },
  "language_info": {
   "codemirror_mode": {
    "name": "ipython",
    "version": 3
   },
   "file_extension": ".py",
   "mimetype": "text/x-python",
   "name": "python",
   "nbconvert_exporter": "python",
   "pygments_lexer": "ipython3",
   "version": "3.11.6"
  }
 },
 "nbformat": 4,
 "nbformat_minor": 2
}
